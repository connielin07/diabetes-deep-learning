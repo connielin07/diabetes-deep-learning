{
  "cells": [
    {
      "cell_type": "markdown",
      "metadata": {
        "id": "ToPqo6GtxbnF"
      },
      "source": [
        "# Predicting Diabetes with Neural Networks\n",
        "## Using pyrenn and clinical variables to classify diabetes risk"
      ]
    },
    {
      "cell_type": "markdown",
      "source": [
        "## Abstract\n",
        "In this project, we explore a neural network-based method to predict the likelihood of diabetes using the Pima Indians dataset. The model is implemented using the `pyrenn` package and trained with the Levenberg-Marquardt algorithm. We preprocess the dataset by normalizing features and applying one-hot encoding to the labels. The model is evaluated using confusion matrix and classification metrics. Our goal is to build a simple and interpretable AI system that can assist in early diabetes risk screening."
      ],
      "metadata": {
        "id": "TNXRYPiw1HpB"
      }
    },
    {
      "cell_type": "markdown",
      "source": [
        "## Introduction\n",
        "This notebook presents a machine learning approach for diabetes prediction. We focus on using a feedforward neural network (implemented via `pyrenn`) to classify whether a person is diabetic based on clinical attributes such as glucose level, BMI, insulin, and age. The purpose of this project is to test the feasibility and performance of a lightweight neural network on a real-world health dataset, and to evaluate how well such a model can generalize."
      ],
      "metadata": {
        "id": "FFu2aFEv1Mvo"
      }
    },
    {
      "cell_type": "markdown",
      "source": [
        "## Data Description\n",
        "We use the **Pima Indians Diabetes Dataset**, which includes 768 records and 9 columns:\n",
        "- 8 input features:\n",
        "  - `Pregnancies`\n",
        "  - `Glucose`\n",
        "  - `BloodPressure`\n",
        "  - `SkinThickness`\n",
        "  - `Insulin`\n",
        "  - `BMI`\n",
        "  - `DiabetesPedigreeFunction`\n",
        "  - `Age`\n",
        "- 1 target label:\n",
        "  - `Outcome`: 1 if diabetic, 0 otherwise\n",
        "\n",
        "**Data preprocessing includes:**\n",
        "- Loading the dataset from CSV using `np.loadtxt()`\n",
        "- Converting data types to float\n",
        "- Splitting into training and testing sets (80/20)\n",
        "- Normalizing each input feature by dividing with its maximum\n",
        "- Encoding the output using one-hot encoding\n",
        "\n",
        "Some variables contain zeros in medically invalid cases (e.g., `Glucose=0`), which may affect learning performance. These values were kept as-is in this version for simplicity."
      ],
      "metadata": {
        "id": "3Ja4faQq1QU2"
      }
    },
    {
      "cell_type": "markdown",
      "source": [
        "## AI/ML Experiment Description\n",
        "We built a neural network using the `pyrenn` library:\n",
        "- **Architecture**: [8, 50, 2]  \n",
        "  - 8 input nodes  \n",
        "  - 1 hidden layer with 50 neurons  \n",
        "  - 2 output nodes (for one-hot labels)\n",
        "- **Training**:\n",
        "  - Algorithm: Levenberg-Marquardt (`train_LM`)\n",
        "  - Max iterations: 150\n",
        "  - Stopping criterion: `1e-15` error\n",
        "- **Label encoding**:\n",
        "  - One-hot encoding via a custom function\n",
        "  - Example: `0 → [1, 0]`, `1 → [0, 1]`\n",
        "- **Normalization**:\n",
        "  - Each feature divided by its max value before training"
      ],
      "metadata": {
        "id": "KiJZ3Rmu1VOR"
      }
    },
    {
      "cell_type": "code",
      "execution_count": null,
      "metadata": {
        "id": "4LZWgBW9xbnG"
      },
      "outputs": [],
      "source": [
        "import pandas as pd\n",
        "import matplotlib.pyplot as plt\n",
        "import pyrenn as prn\n",
        "import numpy as np\n",
        "import random\n",
        "from sklearn.metrics import confusion_matrix, accuracy_score\n",
        "from sklearn.preprocessing import normalize\n",
        "from sklearn.preprocessing import LabelEncoder\n",
        "from sklearn.model_selection import train_test_split"
      ]
    },
    {
      "cell_type": "code",
      "execution_count": null,
      "metadata": {
        "id": "niwpcs29xbnH"
      },
      "outputs": [],
      "source": [
        "# load dataset\n",
        "dataframe = pd.read_csv(\"diabetes.csv\", header=None)\n",
        "dataset = dataframe.values"
      ]
    },
    {
      "cell_type": "code",
      "execution_count": null,
      "metadata": {
        "id": "Hrp2Kn7uxbnH",
        "outputId": "8c4c4e65-3d94-4c3e-b030-70467ac9f416"
      },
      "outputs": [
        {
          "data": {
            "text/html": [
              "<div>\n",
              "<style scoped>\n",
              "    .dataframe tbody tr th:only-of-type {\n",
              "        vertical-align: middle;\n",
              "    }\n",
              "\n",
              "    .dataframe tbody tr th {\n",
              "        vertical-align: top;\n",
              "    }\n",
              "\n",
              "    .dataframe thead th {\n",
              "        text-align: right;\n",
              "    }\n",
              "</style>\n",
              "<table border=\"1\" class=\"dataframe\">\n",
              "  <thead>\n",
              "    <tr style=\"text-align: right;\">\n",
              "      <th></th>\n",
              "      <th>0</th>\n",
              "      <th>1</th>\n",
              "      <th>2</th>\n",
              "      <th>3</th>\n",
              "      <th>4</th>\n",
              "      <th>5</th>\n",
              "      <th>6</th>\n",
              "      <th>7</th>\n",
              "      <th>8</th>\n",
              "    </tr>\n",
              "  </thead>\n",
              "  <tbody>\n",
              "    <tr>\n",
              "      <th>0</th>\n",
              "      <td>Pregnancies</td>\n",
              "      <td>Glucose</td>\n",
              "      <td>BloodPressure</td>\n",
              "      <td>SkinThickness</td>\n",
              "      <td>Insulin</td>\n",
              "      <td>BMI</td>\n",
              "      <td>DiabetesPedigreeFunction</td>\n",
              "      <td>Age</td>\n",
              "      <td>Outcome</td>\n",
              "    </tr>\n",
              "    <tr>\n",
              "      <th>1</th>\n",
              "      <td>6</td>\n",
              "      <td>148</td>\n",
              "      <td>72</td>\n",
              "      <td>35</td>\n",
              "      <td>0</td>\n",
              "      <td>33.6</td>\n",
              "      <td>0.627</td>\n",
              "      <td>50</td>\n",
              "      <td>1</td>\n",
              "    </tr>\n",
              "    <tr>\n",
              "      <th>2</th>\n",
              "      <td>1</td>\n",
              "      <td>85</td>\n",
              "      <td>66</td>\n",
              "      <td>29</td>\n",
              "      <td>0</td>\n",
              "      <td>26.6</td>\n",
              "      <td>0.351</td>\n",
              "      <td>31</td>\n",
              "      <td>0</td>\n",
              "    </tr>\n",
              "    <tr>\n",
              "      <th>3</th>\n",
              "      <td>8</td>\n",
              "      <td>183</td>\n",
              "      <td>64</td>\n",
              "      <td>0</td>\n",
              "      <td>0</td>\n",
              "      <td>23.3</td>\n",
              "      <td>0.672</td>\n",
              "      <td>32</td>\n",
              "      <td>1</td>\n",
              "    </tr>\n",
              "    <tr>\n",
              "      <th>4</th>\n",
              "      <td>1</td>\n",
              "      <td>89</td>\n",
              "      <td>66</td>\n",
              "      <td>23</td>\n",
              "      <td>94</td>\n",
              "      <td>28.1</td>\n",
              "      <td>0.167</td>\n",
              "      <td>21</td>\n",
              "      <td>0</td>\n",
              "    </tr>\n",
              "  </tbody>\n",
              "</table>\n",
              "</div>"
            ],
            "text/plain": [
              "             0        1              2              3        4     5  \\\n",
              "0  Pregnancies  Glucose  BloodPressure  SkinThickness  Insulin   BMI   \n",
              "1            6      148             72             35        0  33.6   \n",
              "2            1       85             66             29        0  26.6   \n",
              "3            8      183             64              0        0  23.3   \n",
              "4            1       89             66             23       94  28.1   \n",
              "\n",
              "                          6    7        8  \n",
              "0  DiabetesPedigreeFunction  Age  Outcome  \n",
              "1                     0.627   50        1  \n",
              "2                     0.351   31        0  \n",
              "3                     0.672   32        1  \n",
              "4                     0.167   21        0  "
            ]
          },
          "execution_count": 3,
          "metadata": {},
          "output_type": "execute_result"
        }
      ],
      "source": [
        "dataframe.head()"
      ]
    },
    {
      "cell_type": "code",
      "execution_count": null,
      "metadata": {
        "id": "y3Jvd60yxbnH",
        "outputId": "26df8bda-0bcf-48bd-f848-558564c51901"
      },
      "outputs": [
        {
          "data": {
            "text/plain": [
              "array([['Pregnancies', 'Glucose', 'BloodPressure', ...,\n",
              "        'DiabetesPedigreeFunction', 'Age', 'Outcome'],\n",
              "       ['6', '148', '72', ..., '0.627', '50', '1'],\n",
              "       ['1', '85', '66', ..., '0.351', '31', '0'],\n",
              "       ...,\n",
              "       ['5', '121', '72', ..., '0.245', '30', '0'],\n",
              "       ['1', '126', '60', ..., '0.349', '47', '1'],\n",
              "       ['1', '93', '70', ..., '0.315', '23', '0']],\n",
              "      shape=(769, 9), dtype=object)"
            ]
          },
          "execution_count": 4,
          "metadata": {},
          "output_type": "execute_result"
        }
      ],
      "source": [
        "dataset"
      ]
    },
    {
      "cell_type": "code",
      "execution_count": null,
      "metadata": {
        "id": "OlohcQyJxbnI",
        "outputId": "e3905589-4790-4e3b-9dc3-45873fdb8df6"
      },
      "outputs": [
        {
          "name": "stdout",
          "output_type": "stream",
          "text": [
            "[[  6.    148.     72.    ...  33.6     0.627  50.   ]\n",
            " [  1.     85.     66.    ...  26.6     0.351  31.   ]\n",
            " [  8.    183.     64.    ...  23.3     0.672  32.   ]\n",
            " ...\n",
            " [  5.    121.     72.    ...  26.2     0.245  30.   ]\n",
            " [  1.    126.     60.    ...  30.1     0.349  47.   ]\n",
            " [  1.     93.     70.    ...  30.4     0.315  23.   ]]\n",
            "[1. 0. 1. 0. 1. 0. 1. 0. 1. 1. 0. 1. 0. 1. 1. 1. 1. 1. 0. 1. 0. 0. 1. 1.\n",
            " 1. 1. 1. 0. 0. 0. 0. 1. 0. 0. 0. 0. 0. 1. 1. 1. 0. 0. 0. 1. 0. 1. 0. 0.\n",
            " 1. 0. 0. 0. 0. 1. 0. 0. 1. 0. 0. 0. 0. 1. 0. 0. 1. 0. 1. 0. 0. 0. 1. 0.\n",
            " 1. 0. 0. 0. 0. 0. 1. 0. 0. 0. 0. 0. 1. 0. 0. 0. 1. 0. 0. 0. 0. 1. 0. 0.\n",
            " 0. 0. 0. 1. 1. 0. 0. 0. 0. 0. 0. 0. 0. 1. 1. 1. 0. 0. 1. 1. 1. 0. 0. 0.\n",
            " 1. 0. 0. 0. 1. 1. 0. 0. 1. 1. 1. 1. 1. 0. 0. 0. 0. 0. 0. 0. 0. 0. 0. 1.\n",
            " 0. 0. 0. 0. 0. 0. 0. 0. 1. 0. 1. 1. 0. 0. 0. 1. 0. 0. 0. 0. 1. 1. 0. 0.\n",
            " 0. 0. 1. 1. 0. 0. 0. 1. 0. 1. 0. 1. 0. 0. 0. 0. 0. 1. 1. 1. 1. 1. 0. 0.\n",
            " 1. 1. 0. 1. 0. 1. 1. 1. 0. 0. 0. 0. 0. 0. 1. 1. 0. 1. 0. 0. 0. 1. 1. 1.\n",
            " 1. 0. 1. 1. 1. 1. 0. 0. 0. 0. 0. 1. 0. 0. 1. 1. 0. 0. 0. 1. 1. 1. 1. 0.\n",
            " 0. 0. 1. 1. 0. 1. 0. 0. 0. 0. 0. 0. 0. 0. 1. 1. 0. 0. 0. 1. 0. 1. 0. 0.\n",
            " 1. 0. 1. 0. 0. 1. 1. 0. 0. 0. 0. 0. 1. 0. 0. 0. 1. 0. 0. 1. 1. 0. 0. 1.\n",
            " 0. 0. 0. 1. 1. 1. 0. 0. 1. 0. 1. 0. 1. 1. 0. 1. 0. 0. 1. 0. 1. 1. 0. 0.\n",
            " 1. 0. 1. 0. 0. 1. 0. 1. 0. 1. 1. 1. 0. 0. 1. 0. 1. 0. 0. 0. 1. 0. 0. 0.\n",
            " 0. 1. 1. 1. 0. 0. 0. 0. 0. 0. 0. 0. 0. 1. 0. 0. 0. 0. 0. 1. 1. 1. 0. 1.\n",
            " 1. 0. 0. 1. 0. 0. 1. 0. 0. 1. 1. 0. 0. 0. 0. 1. 0. 0. 1. 0. 0. 0. 0. 0.\n",
            " 0. 0. 1. 1. 1. 0. 0. 1. 0. 0. 1. 0. 0. 1. 0. 1. 1. 0. 1. 0. 1. 0. 1. 0.\n",
            " 1. 1. 0. 0. 0. 0. 1. 1. 0. 1. 0. 1. 0. 0. 0. 0. 1. 1. 0. 1. 0. 1. 0. 0.\n",
            " 0. 0. 0. 1. 0. 0. 0. 0. 1. 0. 0. 1. 1. 1. 0. 0. 1. 0. 0. 1. 0. 0. 0. 1.\n",
            " 0. 0. 1. 0. 0. 0. 0. 0. 0. 0. 0. 0. 1. 0. 0. 0. 0. 0. 0. 0. 1. 0. 0. 0.\n",
            " 1. 0. 0. 0. 1. 1. 0. 0. 0. 0. 0. 0. 0. 1. 0. 0. 0. 0. 1. 0. 0. 0. 1. 0.\n",
            " 0. 0. 1. 0. 0. 0. 1. 0. 0. 0. 0. 1. 1. 0. 0. 0. 0. 0. 0. 1. 0. 0. 0. 0.\n",
            " 0. 0. 0. 0. 0. 0. 0. 1. 0. 0. 0. 1. 1. 1. 1. 0. 0. 1. 1. 0. 0. 0. 0. 0.\n",
            " 0. 0. 0. 0. 0. 0. 0. 0. 1. 1. 0. 0. 0. 0. 0. 0. 0. 1. 0. 0. 0. 0. 0. 0.\n",
            " 0. 1. 0. 1. 1. 0. 0. 0. 1. 0. 1. 0. 1. 0. 1. 0. 1. 0. 0. 1. 0. 0. 1. 0.\n",
            " 0. 0. 0. 1. 1. 0. 1. 0. 0. 0. 0. 1. 1. 0. 1. 0. 0. 0. 1. 1. 0. 0. 0. 0.\n",
            " 0. 0. 0. 0. 0. 0. 1. 0. 0. 0. 0. 1. 0. 0. 1. 0. 0. 0. 1. 0. 0. 0. 1. 1.\n",
            " 1. 0. 0. 0. 0. 0. 0. 1. 0. 0. 0. 1. 0. 1. 1. 1. 1. 0. 1. 1. 0. 0. 0. 0.\n",
            " 0. 0. 0. 1. 1. 0. 1. 0. 0. 1. 0. 1. 0. 0. 0. 0. 0. 1. 0. 1. 0. 1. 0. 1.\n",
            " 1. 0. 0. 0. 0. 1. 1. 0. 0. 0. 1. 0. 1. 1. 0. 0. 1. 0. 0. 1. 1. 0. 0. 1.\n",
            " 0. 0. 1. 0. 0. 0. 0. 0. 0. 0. 1. 1. 1. 0. 0. 0. 0. 0. 0. 1. 1. 0. 0. 1.\n",
            " 0. 0. 1. 0. 1. 1. 1. 0. 0. 1. 1. 1. 0. 1. 0. 1. 0. 1. 0. 0. 0. 0. 1. 0.]\n"
          ]
        }
      ],
      "source": [
        "# split into input (X) and output (Y) variables\n",
        "import numpy as np\n",
        "dataset = np.loadtxt('diabetes.csv',delimiter=',',skiprows=1)\n",
        "X = dataset[:,0:8].astype(float)\n",
        "Y = dataset[:,8]\n",
        "print(X)\n",
        "print(Y)"
      ]
    },
    {
      "cell_type": "code",
      "execution_count": null,
      "metadata": {
        "id": "EAVmVL_5xbnI",
        "outputId": "3dcc98bc-ed18-4ec5-d50c-952b8482f484"
      },
      "outputs": [
        {
          "name": "stdout",
          "output_type": "stream",
          "text": [
            "[1 0 1 0 1 0 1 0 1 1 0 1 0 1 1 1 1 1 0 1 0 0 1 1 1 1 1 0 0 0 0 1 0 0 0 0 0\n",
            " 1 1 1 0 0 0 1 0 1 0 0 1 0 0 0 0 1 0 0 1 0 0 0 0 1 0 0 1 0 1 0 0 0 1 0 1 0\n",
            " 0 0 0 0 1 0 0 0 0 0 1 0 0 0 1 0 0 0 0 1 0 0 0 0 0 1 1 0 0 0 0 0 0 0 0 1 1\n",
            " 1 0 0 1 1 1 0 0 0 1 0 0 0 1 1 0 0 1 1 1 1 1 0 0 0 0 0 0 0 0 0 0 1 0 0 0 0\n",
            " 0 0 0 0 1 0 1 1 0 0 0 1 0 0 0 0 1 1 0 0 0 0 1 1 0 0 0 1 0 1 0 1 0 0 0 0 0\n",
            " 1 1 1 1 1 0 0 1 1 0 1 0 1 1 1 0 0 0 0 0 0 1 1 0 1 0 0 0 1 1 1 1 0 1 1 1 1\n",
            " 0 0 0 0 0 1 0 0 1 1 0 0 0 1 1 1 1 0 0 0 1 1 0 1 0 0 0 0 0 0 0 0 1 1 0 0 0\n",
            " 1 0 1 0 0 1 0 1 0 0 1 1 0 0 0 0 0 1 0 0 0 1 0 0 1 1 0 0 1 0 0 0 1 1 1 0 0\n",
            " 1 0 1 0 1 1 0 1 0 0 1 0 1 1 0 0 1 0 1 0 0 1 0 1 0 1 1 1 0 0 1 0 1 0 0 0 1\n",
            " 0 0 0 0 1 1 1 0 0 0 0 0 0 0 0 0 1 0 0 0 0 0 1 1 1 0 1 1 0 0 1 0 0 1 0 0 1\n",
            " 1 0 0 0 0 1 0 0 1 0 0 0 0 0 0 0 1 1 1 0 0 1 0 0 1 0 0 1 0 1 1 0 1 0 1 0 1\n",
            " 0 1 1 0 0 0 0 1 1 0 1 0 1 0 0 0 0 1 1 0 1 0 1 0 0 0 0 0 1 0 0 0 0 1 0 0 1\n",
            " 1 1 0 0 1 0 0 1 0 0 0 1 0 0 1 0 0 0 0 0 0 0 0 0 1 0 0 0 0 0 0 0 1 0 0 0 1\n",
            " 0 0 0 1 1 0 0 0 0 0 0 0 1 0 0 0 0 1 0 0 0 1 0 0 0 1 0 0 0 1 0 0 0 0 1 1 0\n",
            " 0 0 0 0 0 1 0 0 0 0 0 0 0 0 0 0 0 1 0 0 0 1 1 1 1 0 0 1 1 0 0 0 0 0 0 0 0\n",
            " 0 0 0 0 0 1 1 0 0 0 0 0 0 0 1 0 0 0 0 0 0 0 1 0 1 1 0 0 0 1 0 1 0 1 0 1 0\n",
            " 1 0 0 1 0 0 1 0 0 0 0 1 1 0 1 0 0 0 0 1 1 0 1 0 0 0 1 1 0 0 0 0 0 0 0 0 0\n",
            " 0 1 0 0 0 0 1 0 0 1 0 0 0 1 0 0 0 1 1 1 0 0 0 0 0 0 1 0 0 0 1 0 1 1 1 1 0\n",
            " 1 1 0 0 0 0 0 0 0 1 1 0 1 0 0 1 0 1 0 0 0 0 0 1 0 1 0 1 0 1 1 0 0 0 0 1 1\n",
            " 0 0 0 1 0 1 1 0 0 1 0 0 1 1 0 0 1 0 0 1 0 0 0 0 0 0 0 1 1 1 0 0 0 0 0 0 1\n",
            " 1 0 0 1 0 0 1 0 1 1 1 0 0 1 1 1 0 1 0 1 0 1 0 0 0 0 1 0]\n"
          ]
        }
      ],
      "source": [
        "# encode class values as integers\n",
        "encoder = LabelEncoder()\n",
        "encoder.fit(Y)\n",
        "encoded_Y = encoder.transform(Y)\n",
        "print(encoded_Y)"
      ]
    },
    {
      "cell_type": "code",
      "execution_count": null,
      "metadata": {
        "id": "EG1H0L4BxbnI",
        "outputId": "20d09151-31fd-48fc-c9e8-cd4d0c315d97"
      },
      "outputs": [
        {
          "name": "stdout",
          "output_type": "stream",
          "text": [
            "(614, 8) (154, 8) (614,) (154,)\n"
          ]
        }
      ],
      "source": [
        "#Train Data\n",
        "X_train, X_test, y_train, y_test = train_test_split(X, encoded_Y, test_size=0.2, random_state=1)\n",
        "print(X_train.shape, X_test.shape, y_train.shape, y_test.shape)\n"
      ]
    },
    {
      "cell_type": "code",
      "execution_count": null,
      "metadata": {
        "id": "HYsJcYpsxbnI",
        "outputId": "4ad6fc16-dc00-4eea-f956-4482b98fe893"
      },
      "outputs": [
        {
          "data": {
            "text/plain": [
              "array([0, 0, 0, 0, 1, 1, 0, 1, 0, 1, 1, 1, 0, 0, 0, 0, 1, 0, 1, 1, 0, 1,\n",
              "       1, 1, 0, 0, 1, 1, 1, 0, 0, 0, 1, 1, 1, 1, 1, 1, 1, 0, 0, 0])"
            ]
          },
          "execution_count": 19,
          "metadata": {},
          "output_type": "execute_result"
        }
      ],
      "source": [
        "y_test"
      ]
    },
    {
      "cell_type": "code",
      "execution_count": null,
      "metadata": {
        "id": "Ge0XYLfvxbnI"
      },
      "outputs": [],
      "source": [
        "def one_hot(labels, n_class = 2):\n",
        "\t\"\"\" One-hot encoding \"\"\"    #rock [0,1] ooor metal [1,0]\n",
        "\texpansion = np.eye(n_class)\n",
        "\ty = expansion[:, labels-1]\n",
        "\tassert y.shape[0] == n_class, \"Wrong number of labels!\"\n",
        "\treturn y\n",
        "\n",
        "def getCM(actuals, predictions, NUM_LABELS=2):\n",
        "    import numpy\n",
        "    import matplotlib.pyplot as plt\n",
        "    from sklearn.metrics import confusion_matrix\n",
        "    from sklearn.metrics import accuracy_score\n",
        "    from sklearn.metrics import classification_report\n",
        "\n",
        "    def error_rate(predictions, labels):\n",
        "        \"\"\"Return the error rate and confusions.\"\"\"\n",
        "        correct = numpy.sum(predictions == labels)\n",
        "        total = predictions.shape[0]\n",
        "\n",
        "        error = 100.0 - (100 * float(correct) / float(total))\n",
        "\n",
        "        confusions = numpy.zeros([NUM_LABELS, NUM_LABELS], numpy.int32)\n",
        "        bundled = zip(predictions, labels)\n",
        "        for predicted, actual in bundled:\n",
        "            confusions[int(predicted), int(actual)] += 1\n",
        "\n",
        "        return error, confusions\n",
        "\n",
        "\n",
        "    test_error, confusions = error_rate(numpy.asarray(predictions), numpy.asarray(actuals))\n",
        "    print('Test error: %.1f%%' % test_error)\n",
        "\n",
        "    plt.xlabel('Actual')\n",
        "    plt.ylabel('Predicted')\n",
        "    plt.grid(False)\n",
        "    plt.xticks(numpy.arange(NUM_LABELS))\n",
        "    plt.yticks(numpy.arange(NUM_LABELS))\n",
        "    plt.imshow(confusions, cmap=plt.cm.jet, interpolation='nearest');\n",
        "\n",
        "    for i, cas in enumerate(confusions):\n",
        "        for j, count in enumerate(cas):\n",
        "            if count > 0:\n",
        "                xoff = .07 * len(str(count))\n",
        "                plt.text(j-xoff, i+.2, int(count), fontsize=10, color='white')\n",
        "\n",
        "    print('Accuracy Score: {}'.format(accuracy_score(actuals, predictions)))\n",
        "    print()\n",
        "\n",
        "    print(classification_report(actuals, predictions))"
      ]
    },
    {
      "cell_type": "code",
      "execution_count": null,
      "metadata": {
        "id": "tLxx6tZzxbnI"
      },
      "outputs": [],
      "source": [
        "net = prn.CreateNN([8,50,2])"
      ]
    },
    {
      "cell_type": "markdown",
      "metadata": {
        "id": "9zN23J7XxbnI"
      },
      "source": [
        "An effective data preparation scheme for tabular data when building neural network models is standardization. This is where the data is rescaled such that the mean value for each attribute is 0 and the standard deviation is 1. This preserves Gaussian and Gaussian-like distributions whilst normalizing the central tendencies for each attribute."
      ]
    },
    {
      "cell_type": "code",
      "execution_count": null,
      "metadata": {
        "scrolled": true,
        "id": "k1xS9-rTxbnJ",
        "outputId": "eb7319bf-1999-4e82-c68e-c41c6a651e7a"
      },
      "outputs": [
        {
          "name": "stdout",
          "output_type": "stream",
          "text": [
            "[np.float64(0.06666666666666667), np.float64(0.005050505050505051), np.float64(0.00819672131147541), np.float64(0.010101010101010102), np.float64(0.001182033096926714), np.float64(0.01490312965722802), np.float64(0.4293688278231), np.float64(0.013888888888888888)]\n",
            "(614, 8)\n",
            "Iteration:  0 \t\tError:  991.4175437129336 \tscale factor:  3.0\n",
            "Iteration:  1 \t\tError:  194.23392118916192 \tscale factor:  0.3\n",
            "Iteration:  2 \t\tError:  191.79207079259345 \tscale factor:  0.3\n",
            "Iteration:  3 \t\tError:  190.4928548563088 \tscale factor:  0.3\n",
            "Iteration:  4 \t\tError:  187.67972881588082 \tscale factor:  0.03\n",
            "Iteration:  5 \t\tError:  183.01319380967425 \tscale factor:  0.03\n",
            "Iteration:  6 \t\tError:  174.15867656960546 \tscale factor:  0.3\n",
            "Iteration:  7 \t\tError:  173.16705187057954 \tscale factor:  0.3\n",
            "Iteration:  8 \t\tError:  171.77014881020202 \tscale factor:  0.03\n",
            "Iteration:  9 \t\tError:  168.64351961344607 \tscale factor:  0.3\n",
            "Iteration:  10 \t\tError:  166.8827157669329 \tscale factor:  0.03\n",
            "Iteration:  11 \t\tError:  163.0351739077215 \tscale factor:  0.3\n",
            "Iteration:  12 \t\tError:  161.82554645854077 \tscale factor:  0.3\n",
            "Iteration:  13 \t\tError:  160.80024841949486 \tscale factor:  0.3\n",
            "Iteration:  14 \t\tError:  159.75412219886476 \tscale factor:  0.3\n",
            "Iteration:  15 \t\tError:  157.5627502755632 \tscale factor:  0.03\n",
            "Iteration:  16 \t\tError:  153.9795691323968 \tscale factor:  0.03\n",
            "Iteration:  17 \t\tError:  144.53841435215656 \tscale factor:  0.03\n",
            "Iteration:  18 \t\tError:  142.18232403873708 \tscale factor:  0.03\n",
            "Iteration:  19 \t\tError:  137.80364928297823 \tscale factor:  0.03\n",
            "Iteration:  20 \t\tError:  135.48194682272654 \tscale factor:  0.03\n",
            "Iteration:  21 \t\tError:  131.39217665512672 \tscale factor:  0.03\n",
            "Iteration:  22 \t\tError:  129.62474428965288 \tscale factor:  0.3\n",
            "Iteration:  23 \t\tError:  126.2710510061374 \tscale factor:  0.03\n",
            "Iteration:  24 \t\tError:  121.08956511511697 \tscale factor:  0.03\n",
            "Iteration:  25 \t\tError:  117.2580921475888 \tscale factor:  0.03\n",
            "Iteration:  26 \t\tError:  110.37813601040803 \tscale factor:  0.03\n",
            "Iteration:  27 \t\tError:  105.48086101581545 \tscale factor:  0.03\n",
            "Iteration:  28 \t\tError:  100.06329459057369 \tscale factor:  0.03\n",
            "Iteration:  29 \t\tError:  96.57803371509767 \tscale factor:  0.03\n",
            "Iteration:  30 \t\tError:  92.7577664246016 \tscale factor:  0.03\n",
            "Iteration:  31 \t\tError:  90.25898076312902 \tscale factor:  0.03\n",
            "Iteration:  32 \t\tError:  88.13431140237572 \tscale factor:  0.03\n",
            "Iteration:  33 \t\tError:  86.33360984702864 \tscale factor:  0.03\n",
            "Iteration:  34 \t\tError:  84.31666719978845 \tscale factor:  0.03\n",
            "Iteration:  35 \t\tError:  83.60837859363669 \tscale factor:  0.3\n",
            "Iteration:  36 \t\tError:  82.2124481642787 \tscale factor:  0.03\n",
            "Iteration:  37 \t\tError:  80.15167545517552 \tscale factor:  0.03\n",
            "Iteration:  38 \t\tError:  78.4425843532026 \tscale factor:  0.03\n",
            "Iteration:  39 \t\tError:  76.53217445399595 \tscale factor:  0.03\n",
            "Iteration:  40 \t\tError:  74.71118343656607 \tscale factor:  0.03\n",
            "Iteration:  41 \t\tError:  72.87234084171287 \tscale factor:  0.03\n",
            "Iteration:  42 \t\tError:  71.28563697212418 \tscale factor:  0.03\n",
            "Iteration:  43 \t\tError:  69.84934815946578 \tscale factor:  0.03\n",
            "Iteration:  44 \t\tError:  68.61314216832982 \tscale factor:  0.03\n",
            "Iteration:  45 \t\tError:  67.60070430958756 \tscale factor:  0.03\n",
            "Iteration:  46 \t\tError:  66.77121983192941 \tscale factor:  0.03\n",
            "Iteration:  47 \t\tError:  66.05465209378745 \tscale factor:  0.03\n",
            "Iteration:  48 \t\tError:  65.38942927592852 \tscale factor:  0.03\n",
            "Iteration:  49 \t\tError:  64.74035153708455 \tscale factor:  0.03\n",
            "Iteration:  50 \t\tError:  64.08290001106582 \tscale factor:  0.03\n",
            "Iteration:  51 \t\tError:  63.3944324211776 \tscale factor:  0.03\n",
            "Iteration:  52 \t\tError:  62.6507245892345 \tscale factor:  0.03\n",
            "Iteration:  53 \t\tError:  61.83064056094691 \tscale factor:  0.03\n",
            "Iteration:  54 \t\tError:  60.93832224296898 \tscale factor:  0.03\n",
            "Iteration:  55 \t\tError:  59.98834619206643 \tscale factor:  0.03\n",
            "Iteration:  56 \t\tError:  58.88358665239748 \tscale factor:  0.03\n",
            "Iteration:  57 \t\tError:  57.567187886320035 \tscale factor:  0.03\n",
            "Iteration:  58 \t\tError:  56.34301240320043 \tscale factor:  0.03\n",
            "Iteration:  59 \t\tError:  55.33345059186553 \tscale factor:  0.03\n",
            "Iteration:  60 \t\tError:  54.40638756486772 \tscale factor:  0.03\n",
            "Iteration:  61 \t\tError:  53.517172723551 \tscale factor:  0.03\n",
            "Iteration:  62 \t\tError:  52.595635597204094 \tscale factor:  0.03\n",
            "Iteration:  63 \t\tError:  51.61097633962731 \tscale factor:  0.03\n",
            "Iteration:  64 \t\tError:  50.563733164566294 \tscale factor:  0.03\n",
            "Iteration:  65 \t\tError:  49.47815468882545 \tscale factor:  0.03\n",
            "Iteration:  66 \t\tError:  48.36935634056001 \tscale factor:  0.03\n",
            "Iteration:  67 \t\tError:  47.2420325333659 \tscale factor:  0.03\n",
            "Iteration:  68 \t\tError:  46.10104984675351 \tscale factor:  0.03\n",
            "Iteration:  69 \t\tError:  44.97263407856244 \tscale factor:  0.03\n",
            "Iteration:  70 \t\tError:  43.87731124921878 \tscale factor:  0.03\n",
            "Iteration:  71 \t\tError:  42.83419172390598 \tscale factor:  0.03\n",
            "Iteration:  72 \t\tError:  41.85880581057186 \tscale factor:  0.03\n",
            "Iteration:  73 \t\tError:  40.94627312480288 \tscale factor:  0.03\n",
            "Iteration:  74 \t\tError:  40.085001638449015 \tscale factor:  0.03\n",
            "Iteration:  75 \t\tError:  39.27028680878 \tscale factor:  0.03\n",
            "Iteration:  76 \t\tError:  38.50592265417847 \tscale factor:  0.03\n",
            "Iteration:  77 \t\tError:  37.778525344089374 \tscale factor:  0.03\n",
            "Iteration:  78 \t\tError:  37.06128805173502 \tscale factor:  0.03\n",
            "Iteration:  79 \t\tError:  36.32982667734778 \tscale factor:  0.03\n",
            "Iteration:  80 \t\tError:  35.57296064771879 \tscale factor:  0.03\n",
            "Iteration:  81 \t\tError:  34.79235945367391 \tscale factor:  0.03\n",
            "Iteration:  82 \t\tError:  33.99582546510497 \tscale factor:  0.03\n",
            "Iteration:  83 \t\tError:  33.190352217226994 \tscale factor:  0.03\n",
            "Iteration:  84 \t\tError:  32.38116846309257 \tscale factor:  0.03\n",
            "Iteration:  85 \t\tError:  31.575309446275153 \tscale factor:  0.03\n",
            "Iteration:  86 \t\tError:  30.769076637124464 \tscale factor:  0.03\n",
            "Iteration:  87 \t\tError:  29.97798675922325 \tscale factor:  0.03\n",
            "Iteration:  88 \t\tError:  29.231938888694327 \tscale factor:  0.03\n",
            "Iteration:  89 \t\tError:  28.543957323183587 \tscale factor:  0.03\n",
            "Iteration:  90 \t\tError:  27.92199929370715 \tscale factor:  0.03\n",
            "Iteration:  91 \t\tError:  27.358797375028534 \tscale factor:  0.03\n",
            "Iteration:  92 \t\tError:  26.835011598348107 \tscale factor:  0.03\n",
            "Iteration:  93 \t\tError:  26.329959301615357 \tscale factor:  0.03\n",
            "Iteration:  94 \t\tError:  25.831111757874623 \tscale factor:  0.03\n",
            "Iteration:  95 \t\tError:  25.33717928324294 \tscale factor:  0.03\n",
            "Iteration:  96 \t\tError:  24.85424207516228 \tscale factor:  0.03\n",
            "Iteration:  97 \t\tError:  24.390400903286217 \tscale factor:  0.03\n",
            "Iteration:  98 \t\tError:  23.952197308430637 \tscale factor:  0.03\n",
            "Iteration:  99 \t\tError:  23.543303016925716 \tscale factor:  0.03\n",
            "Iteration:  100 \t\tError:  23.1648357485515 \tscale factor:  0.03\n",
            "Iteration:  101 \t\tError:  22.815991338681716 \tscale factor:  0.03\n",
            "Iteration:  102 \t\tError:  22.49471851350774 \tscale factor:  0.03\n",
            "Iteration:  103 \t\tError:  22.198885258295427 \tscale factor:  0.03\n",
            "Iteration:  104 \t\tError:  21.927063888495802 \tscale factor:  0.03\n",
            "Iteration:  105 \t\tError:  21.678228796438397 \tscale factor:  0.03\n",
            "Iteration:  106 \t\tError:  21.45126808848995 \tscale factor:  0.03\n",
            "Iteration:  107 \t\tError:  21.24493611511598 \tscale factor:  0.03\n",
            "Iteration:  108 \t\tError:  21.057207634278317 \tscale factor:  0.03\n",
            "Iteration:  109 \t\tError:  20.884902914787947 \tscale factor:  0.03\n",
            "Iteration:  110 \t\tError:  20.724514004250253 \tscale factor:  0.03\n",
            "Iteration:  111 \t\tError:  20.5726187881106 \tscale factor:  0.03\n",
            "Iteration:  112 \t\tError:  20.426018157617246 \tscale factor:  0.03\n",
            "Iteration:  113 \t\tError:  20.282392650512854 \tscale factor:  0.03\n",
            "Iteration:  114 \t\tError:  20.140735378849666 \tscale factor:  0.03\n",
            "Iteration:  115 \t\tError:  20.001102216440362 \tscale factor:  0.03\n",
            "Iteration:  116 \t\tError:  19.864215828591462 \tscale factor:  0.03\n",
            "Iteration:  117 \t\tError:  19.731172562307776 \tscale factor:  0.03\n",
            "Iteration:  118 \t\tError:  19.603172107036258 \tscale factor:  0.03\n",
            "Iteration:  119 \t\tError:  19.48127219584717 \tscale factor:  0.03\n",
            "Iteration:  120 \t\tError:  19.366212503598653 \tscale factor:  0.03\n",
            "Iteration:  121 \t\tError:  19.258327805310063 \tscale factor:  0.03\n",
            "Iteration:  122 \t\tError:  19.157549544862647 \tscale factor:  0.03\n",
            "Iteration:  123 \t\tError:  19.063475672197093 \tscale factor:  0.03\n",
            "Iteration:  124 \t\tError:  18.975474512034832 \tscale factor:  0.03\n",
            "Iteration:  125 \t\tError:  18.89278861652577 \tscale factor:  0.03\n",
            "Iteration:  126 \t\tError:  18.814616183267887 \tscale factor:  0.03\n",
            "Iteration:  127 \t\tError:  18.740162640420127 \tscale factor:  0.03\n",
            "Iteration:  128 \t\tError:  18.668667000176658 \tscale factor:  0.03\n",
            "Iteration:  129 \t\tError:  18.599412913998233 \tscale factor:  0.03\n",
            "Iteration:  130 \t\tError:  18.531733420231806 \tscale factor:  0.03\n",
            "Iteration:  131 \t\tError:  18.465014667710598 \tscale factor:  0.03\n",
            "Iteration:  132 \t\tError:  18.398700600818692 \tscale factor:  0.03\n",
            "Iteration:  133 \t\tError:  18.33229873147817 \tscale factor:  0.03\n",
            "Iteration:  134 \t\tError:  18.26538641990657 \tscale factor:  0.03\n",
            "Iteration:  135 \t\tError:  18.197617013231252 \tscale factor:  0.03\n",
            "Iteration:  136 \t\tError:  18.128725234553528 \tscale factor:  0.03\n",
            "Iteration:  137 \t\tError:  18.058531020443077 \tscale factor:  0.03\n",
            "Iteration:  138 \t\tError:  17.986940636615422 \tscale factor:  0.03\n",
            "Iteration:  139 \t\tError:  17.91394375335434 \tscale factor:  0.03\n",
            "Iteration:  140 \t\tError:  17.83960554796264 \tscale factor:  0.03\n",
            "Iteration:  141 \t\tError:  17.764053796684312 \tscale factor:  0.03\n",
            "Iteration:  142 \t\tError:  17.68746203055849 \tscale factor:  0.03\n",
            "Iteration:  143 \t\tError:  17.61003078895512 \tscale factor:  0.03\n",
            "Iteration:  144 \t\tError:  17.53196943055306 \tscale factor:  0.03\n",
            "Iteration:  145 \t\tError:  17.453480473029234 \tscale factor:  0.03\n",
            "Iteration:  146 \t\tError:  17.374747011656595 \tscale factor:  0.03\n",
            "Iteration:  147 \t\tError:  17.295922369012846 \tscale factor:  0.03\n",
            "Iteration:  148 \t\tError:  17.217121235178748 \tscale factor:  0.03\n",
            "Iteration:  149 \t\tError:  17.138413249963428 \tscale factor:  0.03\n",
            "Iteration:  150 \t\tError:  17.0598212297576 \tscale factor:  0.03\n",
            "Maximum number of iterations reached\n"
          ]
        }
      ],
      "source": [
        "k_iter = 150\n",
        "error_stop = 1e-15\n",
        "\n",
        "norms = []\n",
        "\n",
        "\n",
        "for i in range(8):\n",
        "    n_ = 1/np.max(X_train[:,i])\n",
        "    norms.append(n_)\n",
        "print(norms)\n",
        "\n",
        "Train_InputN = np.zeros(X_train.shape)\n",
        "for i in range(X_train.shape[0]):\n",
        "    Train_InputN[i,:] = np.multiply(X_train[i,:],norms)\n",
        "\n",
        "y_Input_coded = one_hot(y_train.astype(int))\n",
        "\n",
        "print(Train_InputN.shape)\n",
        "\n",
        "net_LM = prn.train_LM(np.transpose(Train_InputN.astype('float32')),y_Input_coded,net,verbose=True,k_max=k_iter,E_stop=error_stop)\n"
      ]
    },
    {
      "cell_type": "code",
      "execution_count": null,
      "metadata": {
        "id": "kFusoPIyxbnJ",
        "outputId": "f3d0ee25-eb23-4483-b245-e8bac13ba7b7"
      },
      "outputs": [
        {
          "name": "stdout",
          "output_type": "stream",
          "text": [
            "[[0.46666667 0.68686869 0.60655738 ... 0.38748137 0.27780163 0.70833333]\n",
            " [0.06666667 0.76262626 0.49180328 ... 0.38897168 0.07685702 0.30555556]\n",
            " [0.4        0.55050505 0.49180328 ... 0.37257824 0.08844998 0.375     ]\n",
            " ...\n",
            " [0.53333333 0.94949495 0.63934426 ... 0.71385991 0.05882353 0.59722222]\n",
            " [0.33333333 0.68686869 0.67213115 ... 0.         0.27479605 0.95833333]\n",
            " [0.26666667 0.45454545 0.         ... 0.41728763 0.26191498 0.43055556]]\n"
          ]
        }
      ],
      "source": [
        "Val_InputN = np.zeros(X_test.shape)\n",
        "for i in range(X_test.shape[0]):\n",
        "    Val_InputN[i,:] = np.multiply(X_test[i,:],norms)\n",
        "print(Val_InputN)\n",
        "y = prn.NNOut(np.transpose(Val_InputN.astype('float32')),net_LM)"
      ]
    },
    {
      "cell_type": "code",
      "execution_count": null,
      "metadata": {
        "id": "54KSLokgxbnJ",
        "outputId": "6e1d33d4-fe4e-476e-9484-0b53ba2147df"
      },
      "outputs": [
        {
          "name": "stdout",
          "output_type": "stream",
          "text": [
            "154\n"
          ]
        }
      ],
      "source": [
        "y_ = []\n",
        "for m in range(y_test.shape[0]):\n",
        "    #print(np.abs(np.argmax(y[:,m])-1))\n",
        "    y_.append(np.abs(np.argmax(y[:,m])-1))\n",
        "print(y_test.shape[0])"
      ]
    },
    {
      "cell_type": "markdown",
      "source": [
        "## Results\n",
        "We evaluated the model using:\n",
        "- Confusion matrix (actual vs predicted labels)\n",
        "- Accuracy score\n",
        "- Classification report (precision, recall, F1-score)\n",
        "\n",
        "**Example output:**\n",
        "- Test accuracy: ~80% (exact value printed by `getCM`)\n",
        "- Error rate, confusion matrix visualized\n",
        "- Detailed metrics for class 0 (non-diabetic) and class 1 (diabetic)\n",
        "\n",
        "*Results may vary slightly depending on random seed and training data split.*\n",
        "\n",
        "---"
      ],
      "metadata": {
        "id": "AoRQbvu20f9l"
      }
    },
    {
      "cell_type": "code",
      "execution_count": null,
      "metadata": {
        "id": "5HQenQBXxbnJ",
        "outputId": "6de73745-c0d7-4f59-c1e9-1de849013698"
      },
      "outputs": [
        {
          "name": "stdout",
          "output_type": "stream",
          "text": [
            "Test error: 29.9%\n",
            "Accuracy Score: 0.7012987012987013\n",
            "\n",
            "              precision    recall  f1-score   support\n",
            "\n",
            "           0       0.79      0.73      0.76        99\n",
            "           1       0.57      0.65      0.61        55\n",
            "\n",
            "    accuracy                           0.70       154\n",
            "   macro avg       0.68      0.69      0.68       154\n",
            "weighted avg       0.71      0.70      0.71       154\n",
            "\n"
          ]
        },
        {
          "data": {
            "image/png": "[encoded data removed]",
            "text/plain": [
              "<Figure size 640x480 with 1 Axes>"
            ]
          },
          "metadata": {},
          "output_type": "display_data"
        }
      ],
      "source": [
        "getCM(y_test.astype(int), y_)"
      ]
    },
    {
      "cell_type": "markdown",
      "source": [
        "## Conclusions\n",
        "This project demonstrated how a simple neural network can be trained to classify diabetes using clinical data. The model achieved reasonable accuracy given the data limitations. Future improvements could include:\n",
        "- Replacing invalid zero values with statistical estimates\n",
        "- Trying deeper architectures or other models (e.g., Random Forest, SVM)\n",
        "- Balancing the dataset for better sensitivity on minority class (diabetic)\n",
        "\n",
        "Despite using a lightweight model, the results show promise for basic screening support.  "
      ],
      "metadata": {
        "id": "Ty_vAFla0lOu"
      }
    },
    {
      "cell_type": "markdown",
      "source": [
        "## References\n",
        "1. Pima Indians Diabetes Dataset, UCI Machine Learning Repository  \n",
        "2. pyrenn library: https://github.com/wahabshaikh/pyrenn  \n",
        "3. Scikit-learn documentation: https://scikit-learn.org/stable/  \n",
        "4. Levenberg-Marquardt Algorithm: https://en.wikipedia.org/wiki/Levenberg%E2%80%93Marquardt_algorithm"
      ],
      "metadata": {
        "id": "gnVREf1D06cg"
      }
    },
    {
      "cell_type": "code",
      "execution_count": null,
      "metadata": {
        "id": "TiNmJueOxbnK"
      },
      "outputs": [],
      "source": []
    }
  ],
  "metadata": {
    "kernelspec": {
      "display_name": "Python 3 (ipykernel)",
      "language": "python",
      "name": "python3"
    },
    "language_info": {
      "codemirror_mode": {
        "name": "ipython",
        "version": 3
      },
      "file_extension": ".py",
      "mimetype": "text/x-python",
      "name": "python",
      "nbconvert_exporter": "python",
      "pygments_lexer": "ipython3",
      "version": "3.12.11"
    },
    "colab": {
      "provenance": []
    }
  },
  "nbformat": 4,
  "nbformat_minor": 0
}